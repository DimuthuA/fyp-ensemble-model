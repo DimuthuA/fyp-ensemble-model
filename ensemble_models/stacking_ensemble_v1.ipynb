{
 "cells": [
  {
   "cell_type": "code",
   "execution_count": 1,
   "id": "f6d1e774-ef84-4e7a-b2c8-d0dac521f4fb",
   "metadata": {},
   "outputs": [],
   "source": [
    "import pandas as pd\n",
    "import numpy as np\n",
    "from sklearn.model_selection import train_test_split, GridSearchCV\n",
    "from sklearn.ensemble import GradientBoostingRegressor\n",
    "from sklearn.linear_model import Ridge, Lasso, LinearRegression\n",
    "from sklearn.metrics import mean_absolute_error, mean_squared_error\n",
    "import matplotlib.pyplot as plt\n",
    "import os"
   ]
  },
  {
   "cell_type": "code",
   "execution_count": 2,
   "id": "b066d73b-e030-4ab7-8572-6f8e3f827d8b",
   "metadata": {},
   "outputs": [
    {
     "name": "stdout",
     "output_type": "stream",
     "text": [
      "Index(['geocode', 'week', 'xgboost_pred', 'actual'], dtype='object')\n",
      "Index(['geocode', 'svr_pred', 'actual'], dtype='object')\n",
      "Index(['geocode', 'week', 'rf_pred', 'actual'], dtype='object')\n",
      "Index(['geocode', 'catboost_pred', 'actual'], dtype='object')\n",
      "Index(['geocode', 'week', 'lightgbm_predict', 'actual'], dtype='object')\n",
      "Index(['geocode', 'lstm_pred', 'actual'], dtype='object')\n"
     ]
    }
   ],
   "source": [
    "# Load base model predictions\n",
    "xgboost_df = pd.read_csv(\"../base_predictions/xgboost_preds_2021.csv\")  \n",
    "svr_df = pd.read_csv(\"../base_predictions/svr_preds_2021.csv\")          \n",
    "rf_df = pd.read_csv(\"../base_predictions/rf_preds_2021.csv\")            \n",
    "catboost_df = pd.read_csv(\"../base_predictions/catboost_preds_2021.csv\")\n",
    "lightgbm_df = pd.read_csv(\"../base_predictions/lightgbm_preds_2021.csv\")\n",
    "lstm_df = pd.read_csv(\"../base_predictions/lstm_preds_2021.csv\")\n",
    "\n",
    "for df in [xgboost_df, svr_df, rf_df, catboost_df, lightgbm_df, lstm_df]:\n",
    "  print(df.columns)"
   ]
  },
  {
   "cell_type": "code",
   "execution_count": 3,
   "id": "868325f8",
   "metadata": {},
   "outputs": [],
   "source": [
    "# Rename columns for consistency\n",
    "xgboost_df = xgboost_df.rename(columns={'xgboost_pred': 'XGBoost'})\n",
    "svr_df = svr_df.rename(columns={'svr_pred': 'SVR'})\n",
    "rf_df = rf_df.rename(columns={'rf_pred': 'RF'})\n",
    "catboost_df = catboost_df.rename(columns={'catboost_pred': 'CatBoost'})\n",
    "lightgbm_df = lightgbm_df.rename(columns={'lightgbm_predict': 'LightGBM'})\n",
    "lstm_df = lstm_df.rename(columns={'lstm_pred': 'LSTM'})\n",
    "\n",
    "# Round actuals\n",
    "for df in [xgboost_df, svr_df, rf_df, catboost_df, lightgbm_df, lstm_df]:\n",
    "    df['actual'] = df['actual'].round().astype(int)"
   ]
  },
  {
   "cell_type": "code",
   "execution_count": 4,
   "id": "45df6a08",
   "metadata": {},
   "outputs": [
    {
     "name": "stderr",
     "output_type": "stream",
     "text": [
      "C:\\Users\\user\\AppData\\Local\\Temp\\ipykernel_17536\\1692594177.py:40: DeprecationWarning: DataFrameGroupBy.apply operated on the grouping columns. This behavior is deprecated, and in a future version of pandas the grouping columns will be excluded from the operation. Either pass `include_groups=False` to exclude the groupings or explicitly select the grouping columns after groupby to silence this warning.\n",
      "  .apply(lambda group: group.iloc[n:])\n",
      "C:\\Users\\user\\AppData\\Local\\Temp\\ipykernel_17536\\1692594177.py:40: DeprecationWarning: DataFrameGroupBy.apply operated on the grouping columns. This behavior is deprecated, and in a future version of pandas the grouping columns will be excluded from the operation. Either pass `include_groups=False` to exclude the groupings or explicitly select the grouping columns after groupby to silence this warning.\n",
      "  .apply(lambda group: group.iloc[n:])\n",
      "C:\\Users\\user\\AppData\\Local\\Temp\\ipykernel_17536\\1692594177.py:40: DeprecationWarning: DataFrameGroupBy.apply operated on the grouping columns. This behavior is deprecated, and in a future version of pandas the grouping columns will be excluded from the operation. Either pass `include_groups=False` to exclude the groupings or explicitly select the grouping columns after groupby to silence this warning.\n",
      "  .apply(lambda group: group.iloc[n:])\n",
      "C:\\Users\\user\\AppData\\Local\\Temp\\ipykernel_17536\\1692594177.py:40: DeprecationWarning: DataFrameGroupBy.apply operated on the grouping columns. This behavior is deprecated, and in a future version of pandas the grouping columns will be excluded from the operation. Either pass `include_groups=False` to exclude the groupings or explicitly select the grouping columns after groupby to silence this warning.\n",
      "  .apply(lambda group: group.iloc[n:])\n",
      "C:\\Users\\user\\AppData\\Local\\Temp\\ipykernel_17536\\1692594177.py:40: DeprecationWarning: DataFrameGroupBy.apply operated on the grouping columns. This behavior is deprecated, and in a future version of pandas the grouping columns will be excluded from the operation. Either pass `include_groups=False` to exclude the groupings or explicitly select the grouping columns after groupby to silence this warning.\n",
      "  .apply(lambda group: group.iloc[n:])\n"
     ]
    }
   ],
   "source": [
    "# Start with XGBoost\n",
    "ensemble_df = xgboost_df[['geocode', 'week', 'actual', 'XGBoost']].copy()\n",
    "\n",
    "\n",
    "# Define a function to safely add predictions from another dataframe\n",
    "def add_prediction_column(base_df, new_df, new_col_name):\n",
    "    # Group by geocode to align within each geocode\n",
    "    grouped_base = base_df.groupby('geocode')\n",
    "    grouped_new = new_df.groupby('geocode')\n",
    "\n",
    "    aligned_preds = []\n",
    "\n",
    "    for geocode, base_group in grouped_base:\n",
    "        new_group = grouped_new.get_group(geocode)\n",
    "        \n",
    "        # Ensure matching number of rows\n",
    "        assert len(base_group) == len(new_group), f\"Row count mismatch for geocode {geocode}\"\n",
    "\n",
    "        base_actuals = base_group['actual'].values\n",
    "        new_actuals = new_group['actual'].values\n",
    "        \n",
    "        if not np.array_equal(base_actuals, new_actuals):\n",
    "            mismatches = np.where(base_actuals != new_actuals)[0]\n",
    "            print(f\"\\nActual value mismatch for geocode {geocode}\")\n",
    "            \n",
    "            for idx in mismatches:\n",
    "                print(f\"Row {idx}: base actual = {base_actuals[idx]}, new actual = {new_actuals[idx]}\")\n",
    "            raise AssertionError(f\"Actual mismatch for geocode {geocode} — {len(mismatches)} mismatches\")\n",
    "\n",
    "        # Collect predictions in order\n",
    "        aligned_preds.extend(new_group[new_col_name].values)\n",
    "\n",
    "    # Add new prediction column\n",
    "    base_df[new_col_name] = aligned_preds\n",
    "    return base_df\n",
    "\n",
    "def drop_first_n_rows_per_geocode(df, n=8):\n",
    "    return (\n",
    "        df.groupby('geocode', group_keys=False)\n",
    "        .apply(lambda group: group.iloc[n:])\n",
    "        .reset_index(drop=True)\n",
    "    )\n",
    "\n",
    "def drop_last_n_rows_per_geocode(df, n=4):\n",
    "    return (\n",
    "        df.groupby('geocode', group_keys=False)\n",
    "        .apply(lambda group: group.iloc[:-n] if len(group) > n else group.iloc[0:0])\n",
    "        .reset_index(drop=True)\n",
    "    )\n",
    "\n",
    "\n",
    "# Apply to model DataFrames\n",
    "xgboost_df = drop_first_n_rows_per_geocode(xgboost_df, 4)\n",
    "svr_df = drop_first_n_rows_per_geocode(svr_df, 4)\n",
    "rf_df = drop_first_n_rows_per_geocode(rf_df, 4)\n",
    "catboost_df = drop_first_n_rows_per_geocode(catboost_df, 4)\n",
    "lightgbm_df = drop_first_n_rows_per_geocode(lightgbm_df, 4)\n",
    "# lstm_df = drop_last_n_rows_per_geocode(lstm_df, 4)\n",
    "\n",
    "# Start with XGBoost\n",
    "ensemble_df = xgboost_df[['geocode', 'week', 'actual', 'XGBoost']].copy()\n",
    "\n",
    "# Add predictions one by one\n",
    "ensemble_df = add_prediction_column(ensemble_df, svr_df, 'SVR')\n",
    "ensemble_df = add_prediction_column(ensemble_df, rf_df, 'RF')\n",
    "ensemble_df = add_prediction_column(ensemble_df, catboost_df, 'CatBoost')\n",
    "ensemble_df = add_prediction_column(ensemble_df, lightgbm_df, 'LightGBM')\n",
    "ensemble_df = add_prediction_column(ensemble_df, lstm_df, 'LSTM')"
   ]
  },
  {
   "cell_type": "code",
   "execution_count": 5,
   "id": "9730d70e",
   "metadata": {},
   "outputs": [
    {
     "name": "stdout",
     "output_type": "stream",
     "text": [
      "   geocode    week  actual   XGBoost       SVR        RF  CatBoost  LightGBM  \\\n",
      "0  3300100  202105       0  1.059146  6.595941  1.578376  3.314909  1.725961   \n",
      "1  3300100  202106       0  2.582202  6.060665  3.500376  4.117815  3.028438   \n",
      "2  3300100  202107       1  1.794821  3.411337  1.800650  2.828655  2.178913   \n",
      "3  3300100  202108       0  0.775880  5.403241  0.857398  4.072607  1.088853   \n",
      "4  3300100  202109       3  0.865778  5.775082  1.282198  3.373198  1.773502   \n",
      "\n",
      "       LSTM  \n",
      "0  0.000000  \n",
      "1  0.000000  \n",
      "2  1.478634  \n",
      "3  1.874367  \n",
      "4  1.326040  \n"
     ]
    }
   ],
   "source": [
    "# View the final ensemble input\n",
    "print(ensemble_df.head())"
   ]
  },
  {
   "cell_type": "code",
   "execution_count": 6,
   "id": "95859195",
   "metadata": {},
   "outputs": [],
   "source": [
    "features = ['XGBoost', 'SVR', 'RF', 'CatBoost', 'LightGBM', 'LSTM']\n",
    "X = ensemble_df[features].values\n",
    "y = ensemble_df['actual'].values\n",
    "\n",
    "X_train, X_test, y_train, y_test = train_test_split(\n",
    "    X, y, test_size=0.2, random_state=42, shuffle=True\n",
    ")"
   ]
  },
  {
   "cell_type": "markdown",
   "id": "09498820",
   "metadata": {},
   "source": [
    "GradientBoostingRegressor with GridSearchCV"
   ]
  },
  {
   "cell_type": "code",
   "execution_count": 7,
   "id": "b4f8c63b",
   "metadata": {},
   "outputs": [],
   "source": [
    "# # GridSearchCV for hyperparameter tuning\n",
    "# param_grid = {\n",
    "#     'n_estimators': [50, 100, 150],\n",
    "#     'learning_rate': [0.05, 0.1, 0.2],\n",
    "#     'max_depth': [2, 3, 4]\n",
    "# }\n",
    "\n",
    "# gbr = GradientBoostingRegressor(random_state=42)\n",
    "# grid_search = GridSearchCV(gbr, param_grid, cv=3, scoring='neg_root_mean_squared_error', n_jobs=-1, verbose=1)\n",
    "# grid_search.fit(X_train, y_train)\n",
    "\n",
    "# # Best model\n",
    "# meta_model = grid_search.best_estimator_\n",
    "# print(f\"\\nBest Hyperparameters: {grid_search.best_params_}\")"
   ]
  },
  {
   "cell_type": "markdown",
   "id": "b3fa1184",
   "metadata": {},
   "source": [
    "GradientBoostingRegressor without GridSearchCV"
   ]
  },
  {
   "cell_type": "code",
   "execution_count": 8,
   "id": "5ed35e39-c1b7-471f-909c-70e13bffcd7a",
   "metadata": {},
   "outputs": [],
   "source": [
    "# meta_model = GradientBoostingRegressor(\n",
    "#     n_estimators=100,\n",
    "#     learning_rate=0.1,\n",
    "#     max_depth=3,\n",
    "#     random_state=42\n",
    "# )\n",
    "# meta_model.fit(X_train, y_train)"
   ]
  },
  {
   "cell_type": "code",
   "execution_count": 9,
   "id": "e7bf01f1-ed8f-4518-bc03-c24d798433a5",
   "metadata": {},
   "outputs": [],
   "source": [
    "# y_pred = meta_model.predict(X_test)\n",
    "\n",
    "# mae = mean_absolute_error(y_test, y_pred)\n",
    "# rmse = np.sqrt(mean_squared_error(y_test, y_pred))\n",
    "\n",
    "# print(f\"\\nEvaluation on Test Data:\")\n",
    "# print(f\"Mean Absolute Error (MAE): {mae:.4f}\")\n",
    "# print(f\"Root Mean Squared Error (RMSE): {rmse:.4f}\")"
   ]
  },
  {
   "cell_type": "markdown",
   "id": "baa4ca12",
   "metadata": {},
   "source": [
    "Other Regressors with GridSearchCV"
   ]
  },
  {
   "cell_type": "code",
   "execution_count": 10,
   "id": "1d2e07ff",
   "metadata": {},
   "outputs": [
    {
     "name": "stdout",
     "output_type": "stream",
     "text": [
      "\n",
      "--- Testing Ridge ---\n",
      "Best Parameters for Ridge: {'alpha': 100.0}\n",
      "Ridge — MAE: 0.8211, RMSE: 1.9729\n",
      "\n",
      "--- Testing Lasso ---\n",
      "Best Parameters for Lasso: {'alpha': 0.1}\n",
      "Lasso — MAE: 0.8229, RMSE: 1.9750\n",
      "\n",
      "--- Testing LinearRegression ---\n",
      "Best Parameters for LinearRegression: {}\n",
      "LinearRegression — MAE: 0.8224, RMSE: 1.9749\n",
      "\n",
      "Best Overall Model: LinearRegression with RMSE: 1.9749\n"
     ]
    }
   ],
   "source": [
    "meta_models = {\n",
    "    'Ridge': Ridge(),\n",
    "    'Lasso': Lasso(),\n",
    "    'LinearRegression': LinearRegression()\n",
    "}\n",
    "\n",
    "from sklearn.model_selection import GridSearchCV\n",
    "\n",
    "param_grids = {\n",
    "    'Ridge': {'alpha': [0.01, 0.1, 1.0, 10.0, 100.0]},\n",
    "    'Lasso': {'alpha': [0.001, 0.01, 0.1, 1.0]},\n",
    "    'LinearRegression': {}  # No hyperparameters to tune\n",
    "}\n",
    "\n",
    "for name, model in meta_models.items():\n",
    "    print(f\"\\n--- Testing {name} ---\")\n",
    "    \n",
    "    param_grid = param_grids[name]\n",
    "    \n",
    "    grid_search = GridSearchCV(\n",
    "        model,\n",
    "        param_grid,\n",
    "        scoring='neg_mean_squared_error',\n",
    "        cv=5,\n",
    "        n_jobs=-1\n",
    "    )\n",
    "    \n",
    "    grid_search.fit(X_train, y_train)\n",
    "\n",
    "    best_model = grid_search.best_estimator_\n",
    "    print(f\"Best Parameters for {name}: {grid_search.best_params_}\")\n",
    "    \n",
    "    y_pred = best_model.predict(X_test)\n",
    "    mae = mean_absolute_error(y_test, y_pred)\n",
    "    rmse = np.sqrt(mean_squared_error(y_test, y_pred))\n",
    "\n",
    "    print(f\"{name} — MAE: {mae:.4f}, RMSE: {rmse:.4f}\")\n",
    "\n",
    "\n",
    "meta_model = None\n",
    "lowest_rmse = float('inf')\n",
    "\n",
    "for name, model in meta_models.items():\n",
    "    ...\n",
    "    if rmse < lowest_rmse:\n",
    "        lowest_rmse = rmse\n",
    "        meta_model = best_model\n",
    "\n",
    "print(f\"\\nBest Overall Model: {meta_model.__class__.__name__} with RMSE: {lowest_rmse:.4f}\")\n",
    "\n"
   ]
  },
  {
   "cell_type": "code",
   "execution_count": 11,
   "id": "3838a57b-57f2-438b-8721-cdffa81a9e0a",
   "metadata": {},
   "outputs": [
    {
     "name": "stdout",
     "output_type": "stream",
     "text": [
      "Index(['geocode', 'week', 'xgboost_pred', 'actual'], dtype='object')\n",
      "Index(['geocode', 'svr_pred', 'actual'], dtype='object')\n",
      "Index(['geocode', 'week', 'rf_pred', 'actual'], dtype='object')\n",
      "Index(['geocode', 'catboost_pred', 'actual'], dtype='object')\n",
      "Index(['geocode', 'week', 'lightgbm_predict', 'actual'], dtype='object')\n",
      "Index(['geocode', 'lstm_pred', 'actual'], dtype='object')\n"
     ]
    }
   ],
   "source": [
    "# Use the Meta-Model for Final Predictions (on 2022 predictions)\n",
    "# Load test set predictions from base models\n",
    "xgboost_test_df = pd.read_csv(\"../base_predictions/xgboost_test_preds_2022.csv\")  \n",
    "svr_test_df = pd.read_csv(\"../base_predictions/svr_test_preds_2022.csv\")          \n",
    "rf_test_df = pd.read_csv(\"../base_predictions/rf_test_preds_2022.csv\")            \n",
    "catboost_test_df = pd.read_csv(\"../base_predictions/catboost_test_preds_2022.csv\")\n",
    "lightgbm_test_df = pd.read_csv(\"../base_predictions/lightgbm_test_preds_2022.csv\")\n",
    "lstm_test_df = pd.read_csv(\"../base_predictions/lstm_test_preds_2022.csv\")\n",
    "\n",
    "for df in [xgboost_test_df, svr_test_df, rf_test_df, catboost_test_df, lightgbm_test_df, lstm_test_df]:\n",
    "  print(df.columns)"
   ]
  },
  {
   "cell_type": "code",
   "execution_count": 12,
   "id": "eb05f698",
   "metadata": {},
   "outputs": [],
   "source": [
    "xgboost_test_df = xgboost_test_df.rename(columns={'xgboost_pred': 'XGBoost'})\n",
    "svr_test_df = svr_test_df.rename(columns={'svr_pred': 'SVR'})\n",
    "rf_test_df = rf_test_df.rename(columns={'rf_pred': 'RF'})\n",
    "catboost_test_df = catboost_test_df.rename(columns={'catboost_pred': 'CatBoost'})\n",
    "lightgbm_test_df = lightgbm_test_df.rename(columns={'lightgbm_predict': 'LightGBM'})\n",
    "lstm_test_df = lstm_test_df.rename(columns={'lstm_pred': 'LSTM'})\n",
    "\n",
    "for df in [xgboost_test_df, svr_test_df, rf_test_df, catboost_test_df, lightgbm_test_df, lstm_test_df]:\n",
    "    if 'actual' in df.columns:\n",
    "        df['actual'] = df['actual'].round().astype(int)\n",
    "\n",
    "\n",
    "ensemble_test_df = xgboost_test_df[['geocode', 'week', 'actual', 'XGBoost']].copy()\n",
    "\n",
    "# Add predictions from other models\n",
    "ensemble_test_df = add_prediction_column(ensemble_test_df, svr_test_df, 'SVR')\n",
    "ensemble_test_df = add_prediction_column(ensemble_test_df, rf_test_df, 'RF')\n",
    "ensemble_test_df = add_prediction_column(ensemble_test_df, catboost_test_df, 'CatBoost')\n",
    "ensemble_test_df = add_prediction_column(ensemble_test_df, lightgbm_test_df, 'LightGBM')\n",
    "ensemble_test_df = add_prediction_column(ensemble_test_df, lstm_test_df, 'LSTM')"
   ]
  },
  {
   "cell_type": "code",
   "execution_count": 13,
   "id": "0a835a82",
   "metadata": {},
   "outputs": [],
   "source": [
    "# Generate Ensemble Predictions for 2022\n",
    "X_2022 = ensemble_test_df[features].values\n",
    "ensemble_preds_2022 = meta_model.predict(X_2022)\n",
    "\n",
    "# Add predictions to DataFrame\n",
    "ensemble_test_df['ensemble_pred'] = ensemble_preds_2022\n",
    "\n",
    "# Save final results to CSV\n",
    "ensemble_test_df.to_csv(\"../ensemble_predictions/final_ensemble_predictions_2022.csv\", index=False)"
   ]
  },
  {
   "cell_type": "code",
   "execution_count": 14,
   "id": "ee1c9045",
   "metadata": {},
   "outputs": [
    {
     "name": "stdout",
     "output_type": "stream",
     "text": [
      "\n",
      "Evaluation on the True Hold-out Set (2022):\n",
      "MAE: 2.2998\n",
      "RMSE: 8.1301\n"
     ]
    }
   ],
   "source": [
    "if 'actual' in ensemble_test_df.columns:\n",
    "    mae_2022 = mean_absolute_error(ensemble_test_df['actual'], ensemble_test_df['ensemble_pred'])\n",
    "    rmse_2022 = np.sqrt(mean_squared_error(ensemble_test_df['actual'], ensemble_test_df['ensemble_pred']))\n",
    "    print(f\"\\nEvaluation on the True Hold-out Set (2022):\")\n",
    "    print(f\"MAE: {mae_2022:.4f}\")\n",
    "    print(f\"RMSE: {rmse_2022:.4f}\")"
   ]
  },
  {
   "cell_type": "code",
   "execution_count": 15,
   "id": "ef740601",
   "metadata": {},
   "outputs": [],
   "source": [
    "import matplotlib.pyplot as plt\n",
    "import os\n",
    "\n",
    "# Optional: create output directory\n",
    "output_dir = \"../ensemble_predictions/plots_2022\"\n",
    "os.makedirs(output_dir, exist_ok=True)\n",
    "\n",
    "# List of model columns to plot\n",
    "model_cols = ['XGBoost', 'SVR', 'RF', 'CatBoost', 'LightGBM', 'LSTM']\n",
    "\n",
    "# Iterate over each geocode\n",
    "unique_geocodes = ensemble_test_df['geocode'].unique()\n",
    "\n",
    "for geocode in unique_geocodes:\n",
    "    df_geo = ensemble_test_df[ensemble_test_df['geocode'] == geocode].sort_values(by='week')\n",
    "\n",
    "    plt.figure(figsize=(14, 6))\n",
    "\n",
    "    # Actual: dashed bold black line\n",
    "    plt.plot(df_geo['week'], df_geo['actual'], label='Actual', color='black', linewidth=2.5, linestyle='--')\n",
    "\n",
    "    # Base models: default colors, thinner lines\n",
    "    for model in model_cols:\n",
    "        plt.plot(df_geo['week'], df_geo[model], label=model, linewidth=1.2)\n",
    "\n",
    "    # Ensemble: bold solid blue line\n",
    "    plt.plot(df_geo['week'], df_geo['ensemble_pred'], label='Ensemble', color='blue', linewidth=2.5)\n",
    "\n",
    "\n",
    "    plt.title(f\"Geocode {geocode} — 2022 Predictions vs Actual\")\n",
    "    plt.xlabel(\"Week\")\n",
    "    plt.ylabel(\"Dengue Cases\")\n",
    "    plt.legend()\n",
    "    plt.tight_layout()\n",
    "\n",
    "    # Save figure\n",
    "    plt.savefig(os.path.join(output_dir, f\"geocode_{geocode}.png\"))\n",
    "    plt.close()\n"
   ]
  }
 ],
 "metadata": {
  "kernelspec": {
   "display_name": "Python 3",
   "language": "python",
   "name": "python3"
  },
  "language_info": {
   "codemirror_mode": {
    "name": "ipython",
    "version": 3
   },
   "file_extension": ".py",
   "mimetype": "text/x-python",
   "name": "python",
   "nbconvert_exporter": "python",
   "pygments_lexer": "ipython3",
   "version": "3.11.9"
  }
 },
 "nbformat": 4,
 "nbformat_minor": 5
}
