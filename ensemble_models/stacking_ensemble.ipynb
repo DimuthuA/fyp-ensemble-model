{
 "cells": [
  {
   "cell_type": "code",
   "execution_count": null,
   "id": "f6d1e774-ef84-4e7a-b2c8-d0dac521f4fb",
   "metadata": {},
   "outputs": [],
   "source": [
    "import pandas as pd\n",
    "import numpy as np\n",
    "from sklearn.model_selection import train_test_split\n",
    "from sklearn.ensemble import GradientBoostingRegressor\n",
    "from sklearn.metrics import mean_absolute_error, mean_squared_error"
   ]
  },
  {
   "cell_type": "code",
   "execution_count": null,
   "id": "b066d73b-e030-4ab7-8572-6f8e3f827d8b",
   "metadata": {},
   "outputs": [],
   "source": [
    "# Load Predictions from Base Models\n",
    "lstm_preds = pd.read_csv(\"lstm_preds.csv\", header=None, names=[\"LSTM\"])\n",
    "xgboost_preds = pd.read_csv(\"xgboost_preds.csv\", header=None, names=[\"XGBoost\"])\n",
    "lightgbm_preds = pd.read_csv(\"lightgbm_preds.csv\", header=None, names=[\"LightGBM\"])\n",
    "svr_preds = pd.read_csv(\"svr_preds.csv\", header=None, names=[\"SVR\"])\n",
    "rf_preds = pd.read_csv(\"random_forest_preds.csv\", header=None, names=[\"RandomForest\"])"
   ]
  },
  {
   "cell_type": "code",
   "execution_count": null,
   "id": "06fd259f-fed0-4091-a335-6e2c44c6d4e8",
   "metadata": {},
   "outputs": [],
   "source": [
    "# Load actual validation set target values\n",
    "y_validation = pd.read_csv(\"y_validation.csv\", header=None, names=[\"Actual\"])"
   ]
  },
  {
   "cell_type": "code",
   "execution_count": null,
   "id": "719ebf89-4ca9-46a2-8dd8-23786fe57f92",
   "metadata": {},
   "outputs": [],
   "source": [
    "# Merge Predictions into a Single DataFrame\n",
    "meta_features = pd.concat([lstm_preds, xgboost_preds, lightgbm_preds, svr_preds, rf_preds], axis=1)\n",
    "meta_target = y_validation[\"Actual\"]"
   ]
  },
  {
   "cell_type": "code",
   "execution_count": null,
   "id": "af1f592f-931b-4e37-8ebf-a30ba092dc66",
   "metadata": {},
   "outputs": [],
   "source": [
    "# Split Data for Training Meta-Model\n",
    "X_train_meta, X_val_meta, y_train_meta, y_val_meta = train_test_split(meta_features, meta_target, test_size=0.2, random_state=37)"
   ]
  },
  {
   "cell_type": "code",
   "execution_count": null,
   "id": "5ed35e39-c1b7-471f-909c-70e13bffcd7a",
   "metadata": {},
   "outputs": [],
   "source": [
    "# Train the Meta-Model (Gradient Boosting Regressor)\n",
    "meta_model = GradientBoostingRegressor(n_estimators=100, learning_rate=0.1, max_depth=3, random_state=42)\n",
    "meta_model.fit(X_train_meta, y_train_meta)"
   ]
  },
  {
   "cell_type": "code",
   "execution_count": null,
   "id": "e7bf01f1-ed8f-4518-bc03-c24d798433a5",
   "metadata": {},
   "outputs": [],
   "source": [
    "# Predict on Validation Set and Evaluate\n",
    "meta_preds = meta_model.predict(X_val_meta)\n",
    "\n",
    "mae = mean_absolute_error(y_val_meta, meta_preds)\n",
    "rmse = np.sqrt(mean_squared_error(y_val_meta, meta_preds))\n",
    "\n",
    "print(f\"Meta-Model MAE: {mae}\")\n",
    "print(f\"Meta-Model RMSE: {rmse}\")"
   ]
  },
  {
   "cell_type": "code",
   "execution_count": null,
   "id": "3838a57b-57f2-438b-8721-cdffa81a9e0a",
   "metadata": {},
   "outputs": [],
   "source": [
    "# Use the Meta-Model for Final Predictions (on Test Set)\n",
    "# Load test set predictions from base models\n",
    "lstm_test_preds = pd.read_csv(\"lstm_test_preds.csv\", header=None, names=[\"LSTM\"])\n",
    "xgboost_test_preds = pd.read_csv(\"xgboost_test_preds.csv\", header=None, names=[\"XGBoost\"])\n",
    "lightgbm_test_preds = pd.read_csv(\"lightgbm_test_preds.csv\", header=None, names=[\"LightGBM\"])\n",
    "svr_test_preds = pd.read_csv(\"svr_test_preds.csv\", header=None, names=[\"SVR\"])\n",
    "rf_test_preds = pd.read_csv(\"random_forest_test_preds.csv\", header=None, names=[\"RandomForest\"])"
   ]
  },
  {
   "cell_type": "code",
   "execution_count": null,
   "id": "468f996e-ea36-4386-b122-1adee49c5dbe",
   "metadata": {},
   "outputs": [],
   "source": [
    "# Combine test predictions\n",
    "test_meta_features = pd.concat([lstm_test_preds, xgboost_test_preds, lightgbm_test_preds, svr_test_preds, rf_test_preds], axis=1)"
   ]
  },
  {
   "cell_type": "code",
   "execution_count": null,
   "id": "83cd7ab3-4950-46a6-b399-7844eebb9b94",
   "metadata": {},
   "outputs": [],
   "source": [
    "# Generate final ensemble predictions\n",
    "final_predictions = meta_model.predict(test_meta_features)"
   ]
  },
  {
   "cell_type": "code",
   "execution_count": null,
   "id": "4837b9df-350c-4e3a-94e0-312bbedcc18e",
   "metadata": {},
   "outputs": [],
   "source": [
    "# Save final predictions\n",
    "pd.DataFrame(final_predictions, columns=[\"Final_Predictions\"]).to_csv(\"final_stacking_ensemble_predictions.csv\", index=False)\n",
    "\n",
    "print(\"Final ensemble predictions saved as 'final_stacking_ensemble_predictions.csv'\")"
   ]
  }
 ],
 "metadata": {
  "kernelspec": {
   "display_name": "Python 3.11 (Global)",
   "language": "python",
   "name": "python311"
  },
  "language_info": {
   "codemirror_mode": {
    "name": "ipython",
    "version": 3
   },
   "file_extension": ".py",
   "mimetype": "text/x-python",
   "name": "python",
   "nbconvert_exporter": "python",
   "pygments_lexer": "ipython3",
   "version": "3.11.9"
  }
 },
 "nbformat": 4,
 "nbformat_minor": 5
}
